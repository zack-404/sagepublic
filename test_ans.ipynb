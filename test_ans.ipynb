{
 "cells": [
  {
   "cell_type": "markdown",
   "metadata": {},
   "source": [
    "# 1.\n",
    "\n",
    "$ Let $ $ a(x) $ $ =x^50 $ , $ b(x)=x^2+x+1\n",
    "\n",
    "$ a$ $ mod $ $b$\n"
   ]
  },
  {
   "cell_type": "code",
   "execution_count": null,
   "metadata": {},
   "outputs": [],
   "source": [
    "# 1\n",
    "\n",
    "a=x^50\n",
    "b=x^2+x+1\n",
    "\n",
    "a=a.polynomail(QQ)\n",
    "b=b.polynomial(QQ)\n",
    "\n",
    "print(a%b)\n",
    "\n",
    "# -x-1"
   ]
  },
  {
   "cell_type": "markdown",
   "metadata": {},
   "source": [
    "# 2.\n",
    "\n",
    "$ a_n = a_n-1+a_n-2$ \n",
    "\n",
    "$ a_0=2$\n",
    "\n",
    "$ a_1=1$\n",
    "\n",
    "$ S=a_0+a_1+...+a_18$"
   ]
  },
  {
   "cell_type": "code",
   "execution_count": null,
   "metadata": {},
   "outputs": [],
   "source": [
    "# 2\n",
    "\n",
    "a=[]\n",
    "a.append(2)\n",
    "a.append(1)\n",
    "\n",
    "sum=0\n",
    "\n",
    "for i in range(2,18):\n",
    "    a.append(a[i-1]+2*a[i-2])\n",
    "\n",
    "ia=0\n",
    "\n",
    "for i in a :\n",
    "    sum+=i\n",
    "    ia+=1\n",
    "\n",
    "print(sum)\n",
    "\n",
    "# 262143"
   ]
  },
  {
   "cell_type": "markdown",
   "metadata": {},
   "source": [
    "# 3. \n",
    "\n",
    "Pick a card in poker which odd, calculate the poperbility"
   ]
  },
  {
   "cell_type": "code",
   "execution_count": null,
   "metadata": {},
   "outputs": [],
   "source": [
    "# 3\n",
    " \n",
    "sum1=1\n",
    "sum2=1\n",
    "\n",
    "for i in range(20,24):\n",
    "    sum1*=i\n",
    "\n",
    "for i in range(48,52):\n",
    "    sum2*=i\n",
    "\n",
    "print(sum1/sum2)\n",
    "\n",
    "# 0.04"
   ]
  },
  {
   "cell_type": "markdown",
   "metadata": {},
   "source": [
    "# 4.\n",
    "\n",
    "$ f(x)=x^2/exp(x) $\n",
    "\n",
    "$ max $ $f $ when x is between $0$ and $infinity$"
   ]
  },
  {
   "cell_type": "code",
   "execution_count": null,
   "metadata": {},
   "outputs": [],
   "source": [
    "# 4\n",
    "\n",
    "import numpy as np\n",
    "\n",
    "print(np.exp(1))\n",
    "\n",
    "max=0\n",
    "x=0\n",
    "\n",
    "for i in range(1000):\n",
    "    val=i*i/np.exp(i)\n",
    "    if val>max:\n",
    "        max=val\n",
    "        x=i\n",
    "\n",
    "print(max)\n",
    "print(x)\n",
    "\n",
    "# 2"
   ]
  },
  {
   "cell_type": "markdown",
   "metadata": {},
   "source": [
    "# 5.\n",
    "\n",
    "$ v_1=(1,2,3,4)$\n",
    "\n",
    "$ v_2=(1,1,1,1)$\n",
    "\n",
    "1. $ |v_2| $\n",
    "2. angle between $v_1$ and $v_2$\n",
    "\n"
   ]
  },
  {
   "cell_type": "code",
   "execution_count": null,
   "metadata": {},
   "outputs": [],
   "source": [
    "# 5\n",
    "\n",
    "v1=np.array([1,2,3,4])\n",
    "v2=np.array([1,1,1,1])\n",
    "\n",
    "len1=np.linalg.norm(v1)\n",
    "len2=np.linalg.norm(v2)\n",
    "\n",
    "print(np.arccos(np.dot(v1,v2)/len1/len2))\n",
    "\n",
    "# 2\n",
    "# 0.42"
   ]
  },
  {
   "cell_type": "markdown",
   "metadata": {},
   "source": [
    "# 6.\n",
    "\n",
    "$ v_1=(1,1,1)$\n",
    "\n",
    "$ v_2=(1,2,4)$\n",
    "\n",
    "$ v_1=(1,3,9)$\n",
    "\n",
    "Valued by $v_1$ , $v_2$ and $v_3$"
   ]
  },
  {
   "cell_type": "code",
   "execution_count": null,
   "metadata": {},
   "outputs": [],
   "source": [
    "# 6\n",
    "\n",
    "vvv=np.array([\n",
    "    [1,1,1],\n",
    "    [1,2,4],\n",
    "    [1,3,9]\n",
    "])\n",
    "\n",
    "print(np.linalg.det(vvv))"
   ]
  },
  {
   "cell_type": "markdown",
   "metadata": {},
   "source": [
    "# 7.\n",
    "\n",
    "find $x,y,z,w$\n",
    "\n",
    "$ \\begin{bmatrix}\n",
    " 1 & 3 \\\\\n",
    " 2 & 7\n",
    "\\end{bmatrix}$\n",
    "$ \\begin{bmatrix}\n",
    " x & y \\\\\n",
    " z & w\n",
    "\\end{bmatrix}$\n",
    "$ = $\n",
    "$ \\begin{bmatrix}\n",
    " 1 & 2 \\\\\n",
    " 3 & 4\n",
    "\\end{bmatrix}$\n"
   ]
  },
  {
   "cell_type": "code",
   "execution_count": null,
   "metadata": {},
   "outputs": [],
   "source": [
    "# 7\n",
    "\n",
    "arr1=np.array([\n",
    "    [1,3],[2,7]\n",
    "])\n",
    "\n",
    "arr2=np.array([\n",
    "    [1,2],[3,4]\n",
    "])\n",
    "\n",
    "print(np.linalg.inv(arr1)*arr2)"
   ]
  },
  {
   "cell_type": "markdown",
   "metadata": {},
   "source": [
    "# 8.\n",
    "\n",
    "``` python\n",
    "    import random\n",
    "\n",
    "    X=lambda : ord(random.choice(\"abbcccddd\")) - 96\n",
    "```\n",
    "\n"
   ]
  },
  {
   "cell_type": "code",
   "execution_count": null,
   "metadata": {},
   "outputs": [],
   "source": [
    "# 8\n",
    "\n",
    "'''\n",
    "    print(ord('a')) # 97    -96=1\n",
    "    print(ord('b')) # 98    -96=2\n",
    "    print(ord('c')) # 99    -96=3\n",
    "    print(ord('d')) # 100   -96=4\n",
    "\n",
    "    print((1*1+2*2+3*3+4*4)/10) # 3.0\n",
    "'''\n",
    "\n",
    "sum=0\n",
    "\n",
    "ordinary=[\n",
    "    ord('a'),\n",
    "    ord('b'),ord('b'),\n",
    "    ord('c'),ord('c'),ord('c'),\n",
    "    ord('d'),ord('d'),ord('d'),ord('d')\n",
    "]\n",
    "\n",
    "for i in range(100000):\n",
    "    sum+=np.random.choice(ordinary)-96\n",
    "\n",
    "\n",
    "print(sum/100000)\n",
    "\n",
    "# import random\n",
    "# x=lambda : ord(random.choice(\"abbcccddd\"))-96\n",
    "\n",
    "# a=[]\n",
    "\n",
    "# for i in range(10):\n",
    "#     a.append(x)\n",
    "\n",
    "# print(a)\n",
    "\n",
    "# for i in range(10):\n",
    "    # print(x(i))"
   ]
  },
  {
   "cell_type": "markdown",
   "metadata": {},
   "source": [
    "# 9.\n",
    "\n",
    "$ C_1:x^2/4+y^2/16=1$\n",
    "\n",
    "$ C_2:x^2+y^2=8 $\n",
    "\n",
    "calculate area between $C_1$ and $C_2$"
   ]
  },
  {
   "cell_type": "code",
   "execution_count": null,
   "metadata": {},
   "outputs": [],
   "source": [
    "# 9\n",
    "\n",
    "# https://www.wolframalpha.com/input?i=area+between+the+curves+x%5E2%2F4%2By%5E2%2F16%3D1+and+x%5E2%2By%5E2%3D9\n",
    "\n",
    "# 19.17"
   ]
  },
  {
   "cell_type": "markdown",
   "metadata": {},
   "source": [
    "# 10.\n",
    "$ A = \n",
    "\\begin{bmatrix}\n",
    " 0 & 1 & 0 & 0 \\\\\n",
    " 0 & 0 & 1 & 0 \\\\\n",
    " 0 & 0 & 1 & 0 \\\\\n",
    " 1 & 2 & 3 & 4\n",
    "\\end{bmatrix}$\n",
    "\n",
    "find $ det(A)$"
   ]
  },
  {
   "cell_type": "code",
   "execution_count": null,
   "metadata": {},
   "outputs": [],
   "source": [
    "# 10\n",
    "\n",
    "A=np.array([\n",
    "    [0,1,0,0],\n",
    "    [0,0,1,0],\n",
    "    [0,0,0,1],\n",
    "    [1,2,3,4]\n",
    "])\n",
    "\n",
    "print(np.linalg.det(A))"
   ]
  },
  {
   "cell_type": "markdown",
   "metadata": {},
   "source": [
    "# 11.\n",
    "\n",
    "\n",
    "# https://www.wolframalpha.com/input?i=0-%3E1%2C1-%3E2%2C+2-%3E3%2C+3-%3E4%2C+4-%3E5%2C+5-%3E6\n"
   ]
  },
  {
   "cell_type": "code",
   "execution_count": null,
   "metadata": {},
   "outputs": [],
   "source": []
  }
 ],
 "metadata": {
  "kernelspec": {
   "display_name": "Python 3.10.5 64-bit",
   "language": "python",
   "name": "python3"
  },
  "language_info": {
   "name": "python",
   "version": "3.10.5"
  },
  "orig_nbformat": 4,
  "vscode": {
   "interpreter": {
    "hash": "26de051ba29f2982a8de78e945f0abaf191376122a1563185a90213a26c5da77"
   }
  }
 },
 "nbformat": 4,
 "nbformat_minor": 2
}
